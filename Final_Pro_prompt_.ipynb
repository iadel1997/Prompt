{
  "nbformat": 4,
  "nbformat_minor": 0,
  "metadata": {
    "colab": {
      "provenance": []
    },
    "kernelspec": {
      "name": "python3",
      "display_name": "Python 3"
    },
    "language_info": {
      "name": "python"
    }
  },
  "cells": [
    {
      "cell_type": "markdown",
      "source": [
        "test Code to get data"
      ],
      "metadata": {
        "id": "EqckdHNHrfNI"
      }
    },
    {
      "cell_type": "code",
      "source": [
        "import pandas as pd\n",
        "\n",
        "df = pd.read_csv(\"ssssss1.csv\")\n",
        "\n",
        "sentences = df[\"sentence\"].to_list()\n",
        "\n",
        "titles = df[\"title\"].to_list()\n",
        "\n",
        "outside_sentence = input(\"enter sentence to get proper prompt \")\n",
        "\n",
        "\n",
        "def get_rid_of_nulls(sentence_list):\n",
        "    main_list = []\n",
        "    for item in sentence_list:\n",
        "        if len(item) > 2 and \"the\" not in str(item):\n",
        "            main_list.append(item)\n",
        "    return main_list\n",
        "\n",
        "\n",
        "def comare_2_list(list_1, list_2):\n",
        "    score = 0\n",
        "\n",
        "    list_2 = get_rid_of_nulls(list_2.split())\n",
        "    list_1 = get_rid_of_nulls(list_1.split())\n",
        "    for item in list_1:\n",
        "        if item in list_2:\n",
        "            score += 1\n",
        "    return score\n",
        "\n",
        "\n",
        "def run_all():\n",
        "    thersold_title_sentence_score = 0\n",
        "    best_result = None\n",
        "    for title, sentence in zip(titles, sentences):\n",
        "        title_sentence_score = comare_2_list(outside_sentence.lower(), title.lower()) + comare_2_list(\n",
        "            outside_sentence.lower(), sentence.lower())\n",
        "        if title_sentence_score > thersold_title_sentence_score:\n",
        "            #print(title_sentence_score,title)\n",
        "            best_result = sentence\n",
        "            thersold_title_sentence_score = title_sentence_score\n",
        "\n",
        "\n",
        "    return best_result\n",
        "\n",
        "\n",
        "best_result = run_all()\n",
        "print(\"best_result >>>>>>>  \", best_result)"
      ],
      "metadata": {
        "id": "osIIeKFrrTcF",
        "colab": {
          "base_uri": "https://localhost:8080/"
        },
        "outputId": "8245d46b-df12-42c3-8c31-47146ad15dbe"
      },
      "execution_count": 12,
      "outputs": [
        {
          "output_type": "stream",
          "name": "stdout",
          "text": [
            "enter sentence to get proper prompt I want to write a compelling email for marketing purposes for my store that sells premium leather shoes in Riyadh\n",
            "best_result >>>>>>>   “Please write an email marketing campaign using the 'Expectation-Surprise' framework to generate interest and encourage action from [ideal customer persona]. Set expectations for the reader about what they can expect from our [product/service], but then surprise them with unexpected benefits or features that exceed those expectations. Include talking points such as [unique selling point], [pain point], and [desired action].” \n"
          ]
        }
      ]
    },
    {
      "cell_type": "markdown",
      "source": [
        "App prompt\n",
        "\n",
        "---\n",
        "\n"
      ],
      "metadata": {
        "id": "BbCP6T4nQM2B"
      }
    },
    {
      "cell_type": "code",
      "execution_count": null,
      "metadata": {
        "colab": {
          "base_uri": "https://localhost:8080/"
        },
        "id": "XTrPqlZtmFvm",
        "outputId": "5239db34-da51-4919-87a1-47173f75b3f5"
      },
      "outputs": [
        {
          "output_type": "stream",
          "name": "stdout",
          "text": [
            "Looking in indexes: https://pypi.org/simple, https://us-python.pkg.dev/colab-wheels/public/simple/\n",
            "Requirement already satisfied: pandas in /usr/local/lib/python3.10/dist-packages (1.5.3)\n",
            "Requirement already satisfied: python-dateutil>=2.8.1 in /usr/local/lib/python3.10/dist-packages (from pandas) (2.8.2)\n",
            "Requirement already satisfied: pytz>=2020.1 in /usr/local/lib/python3.10/dist-packages (from pandas) (2022.7.1)\n",
            "Requirement already satisfied: numpy>=1.21.0 in /usr/local/lib/python3.10/dist-packages (from pandas) (1.22.4)\n",
            "Requirement already satisfied: six>=1.5 in /usr/local/lib/python3.10/dist-packages (from python-dateutil>=2.8.1->pandas) (1.16.0)\n",
            "Looking in indexes: https://pypi.org/simple, https://us-python.pkg.dev/colab-wheels/public/simple/\n",
            "Requirement already satisfied: nltk in /usr/local/lib/python3.10/dist-packages (3.8.1)\n",
            "Requirement already satisfied: click in /usr/local/lib/python3.10/dist-packages (from nltk) (8.1.3)\n",
            "Requirement already satisfied: joblib in /usr/local/lib/python3.10/dist-packages (from nltk) (1.2.0)\n",
            "Requirement already satisfied: regex>=2021.8.3 in /usr/local/lib/python3.10/dist-packages (from nltk) (2022.10.31)\n",
            "Requirement already satisfied: tqdm in /usr/local/lib/python3.10/dist-packages (from nltk) (4.65.0)\n"
          ]
        }
      ],
      "source": [
        "!pip install pandas\n",
        "!pip install nltk\n"
      ]
    },
    {
      "cell_type": "code",
      "source": [
        "import pandas as pd\n",
        "import spacy\n",
        "import re\n",
        "import nltk\n",
        "from nltk.corpus import stopwords\n",
        "nltk.download('stopwords')"
      ],
      "metadata": {
        "colab": {
          "base_uri": "https://localhost:8080/"
        },
        "id": "m8MFcZWCnvEy",
        "outputId": "75b613b1-8de0-449b-9180-2943e7a1eeb5"
      },
      "execution_count": null,
      "outputs": [
        {
          "output_type": "stream",
          "name": "stderr",
          "text": [
            "[nltk_data] Downloading package stopwords to /root/nltk_data...\n",
            "[nltk_data]   Unzipping corpora/stopwords.zip.\n"
          ]
        },
        {
          "output_type": "execute_result",
          "data": {
            "text/plain": [
              "True"
            ]
          },
          "metadata": {},
          "execution_count": 2
        }
      ]
    },
    {
      "cell_type": "code",
      "source": [
        "nlp = spacy.load(\"en_core_web_sm\")\n",
        "df = pd.read_csv(\"ssssss1.csv\")"
      ],
      "metadata": {
        "id": "_hJjLLVcnsCb"
      },
      "execution_count": null,
      "outputs": []
    },
    {
      "cell_type": "code",
      "source": [
        "sentences = df[\"sentence\"].to_list()\n",
        "titles = df[\"title\"].to_list()\n",
        "#Input(#1#)\n",
        "outside_sentence = input(\"Enter a sentence to get proper prompt: \")\n",
        "#StopWord nltk\n",
        "stop_words = set(stopwords.words('english'))\n",
        "\n",
        "def get_rid_of_nulls(sentence_list):\n",
        "    main_list = []\n",
        "    for item in sentence_list:\n",
        "        if len(item) > 2 and item.lower() not in stop_words:\n",
        "            main_list.append(item)\n",
        "    return main_list\n",
        "\n",
        "def comare_2_list(list_1, list_2):\n",
        "    score = 0\n",
        "    list_2 = get_rid_of_nulls(list_2.split())\n",
        "    list_1 = get_rid_of_nulls(list_1.split())\n",
        "    for item in list_1:\n",
        "        if item in list_2:\n",
        "            score += 1\n",
        "    return score\n",
        "\n",
        "def extract_topic(sentence):\n",
        "    doc = nlp(sentence)\n",
        "    noun_phrases = [chunk.text for chunk in doc.noun_chunks]\n",
        "    \n",
        "    # تحديد الكلمات \n",
        "    key_tokens = [token.text for token in doc if not token.is_stop and token.pos_ in [\"NOUN\", \"PROPN\", \"ADJ\"]]\n",
        "\n",
        "    # تحديد الموضوع \n",
        "    topic = \" \".join(key_tokens)\n",
        "    \n",
        "    return topic\n",
        "\n",
        "def replace_placeholders(sentence, replacements):\n",
        "    for placeholder, value in replacements.items():\n",
        "        sentence = sentence.replace(placeholder, value)\n",
        "    return sentence\n",
        "\n",
        "def run_all():\n",
        "    thersold_title_sentence_score = 0\n",
        "    best_result = None\n",
        "    for title, sentence in zip(titles, sentences):\n",
        "        title_sentence_score = comare_2_list(outside_sentence.lower(), title.lower()) + comare_2_list(\n",
        "            outside_sentence.lower(), sentence.lower())\n",
        "        if title_sentence_score > thersold_title_sentence_score:\n",
        "            #print(title_sentence_score,title)\n",
        "            best_result = sentence\n",
        "            thersold_title_sentence_score = title_sentence_score\n",
        "    return best_result\n",
        "best_result = run_all()\n",
        "# \n",
        "#print(\"Original Sentence: \", outside_sentence)\n",
        "\n",
        "#\n",
        "processed_sentence = \" \".join(get_rid_of_nulls(outside_sentence.lower().split()))\n",
        "#print(\"Processed Sentence: \", processed_sentence)\n",
        "\n",
        "# استخراج الموضوع\n",
        "topic_extracted = extract_topic(processed_sentence)\n",
        "#print(\"Extracted Topic: \", topic_extracted)\n",
        "\n",
        "# االأقواس []\n",
        "placeholders = re.findall(r\"\\[(.*?)\\]\", best_result)\n",
        "replacements = {}\n",
        "\n",
        "for placeholder in placeholders:\n",
        "    if placeholder.lower() == \"topic\":\n",
        "        replacements[f\"[{placeholder}]\"] = topic_extracted\n",
        "    else:\n",
        "        replacements[f\"[{placeholder}]\"] = topic_extracted\n",
        "\n",
        "# استبدال  بالقيم المناسبة\n",
        "final_sentence = replace_placeholders(best_result, replacements)\n",
        "#print(\"Final Sentence: \", final_sentence)\n",
        "\n",
        "print(\"Original Sentence:\")\n",
        "print(\"------------------\")\n",
        "print(outside_sentence)\n",
        "\n",
        "print(\"\\nProcessed Sentence:\")\n",
        "print(\"-------------------\")\n",
        "processed_sentence = \" \".join(get_rid_of_nulls(outside_sentence.lower().split()))\n",
        "print(processed_sentence)\n",
        "\n",
        "print(\"\\nExtracted Topic:\")\n",
        "print(\"-----------------\")\n",
        "topic_extracted = extract_topic(processed_sentence)\n",
        "print(topic_extracted)\n",
        "\n",
        "print(\"\\nFinal Sentence:\")\n",
        "print(\"----------------\")\n",
        "final_sentence = replace_placeholders(best_result, replacements)\n",
        "print(final_sentence)\n"
      ],
      "metadata": {
        "colab": {
          "base_uri": "https://localhost:8080/"
        },
        "id": "ccp8BJz0n3Qq",
        "outputId": "3f688f90-1768-4657-fcdb-444bc02faf73"
      },
      "execution_count": null,
      "outputs": [
        {
          "output_type": "stream",
          "name": "stdout",
          "text": [
            "Enter a sentence to get proper prompt: I want to write a compelling email for marketing purposes for my store that sells premium leather shoes in Riyadh\n",
            "Original Sentence:  I want to write a compelling email for marketing purposes for my store that sells premium leather shoes in Riyadh\n",
            "Processed Sentence:  want write compelling email marketing purposes store sells premium leather shoes riyadh\n",
            "Extracted Topic:  compelling email marketing purposes store premium leather shoes\n",
            "Final Sentence:  “Please write an email marketing campaign using the 'Expectation-Surprise' framework to generate interest and encourage action from compelling email marketing purposes store premium leather shoes. Set expectations for the reader about what they can expect from our compelling email marketing purposes store premium leather shoes, but then surprise them with unexpected benefits or features that exceed those expectations. Include talking points such as compelling email marketing purposes store premium leather shoes, compelling email marketing purposes store premium leather shoes, and compelling email marketing purposes store premium leather shoes.” \n",
            "Original Sentence:\n",
            "------------------\n",
            "I want to write a compelling email for marketing purposes for my store that sells premium leather shoes in Riyadh\n",
            "\n",
            "Processed Sentence:\n",
            "-------------------\n",
            "want write compelling email marketing purposes store sells premium leather shoes riyadh\n",
            "\n",
            "Extracted Topic:\n",
            "-----------------\n",
            "compelling email marketing purposes store premium leather shoes\n",
            "\n",
            "Final Sentence:\n",
            "----------------\n",
            "“Please write an email marketing campaign using the 'Expectation-Surprise' framework to generate interest and encourage action from compelling email marketing purposes store premium leather shoes. Set expectations for the reader about what they can expect from our compelling email marketing purposes store premium leather shoes, but then surprise them with unexpected benefits or features that exceed those expectations. Include talking points such as compelling email marketing purposes store premium leather shoes, compelling email marketing purposes store premium leather shoes, and compelling email marketing purposes store premium leather shoes.” \n"
          ]
        }
      ]
    },
    {
      "cell_type": "markdown",
      "source": [
        "cohere Chat\n",
        "\n",
        "---\n",
        "\n",
        "\n"
      ],
      "metadata": {
        "id": "Oq6iDYSqt8fT"
      }
    },
    {
      "cell_type": "code",
      "source": [
        "!pip install cohere\n",
        "import cohere\n"
      ],
      "metadata": {
        "id": "wBATHafeu6D4",
        "colab": {
          "base_uri": "https://localhost:8080/"
        },
        "outputId": "5c58eccf-8e74-4161-a6c2-ff7405c47738"
      },
      "execution_count": 10,
      "outputs": [
        {
          "output_type": "stream",
          "name": "stdout",
          "text": [
            "Looking in indexes: https://pypi.org/simple, https://us-python.pkg.dev/colab-wheels/public/simple/\n",
            "Requirement already satisfied: cohere in /usr/local/lib/python3.10/dist-packages (4.5.1)\n",
            "Requirement already satisfied: aiohttp<4.0,>=3.0 in /usr/local/lib/python3.10/dist-packages (from cohere) (3.8.4)\n",
            "Requirement already satisfied: backoff<3.0,>=2.0 in /usr/local/lib/python3.10/dist-packages (from cohere) (2.2.1)\n",
            "Requirement already satisfied: requests<3.0,>=2.0 in /usr/local/lib/python3.10/dist-packages (from cohere) (2.27.1)\n",
            "Requirement already satisfied: attrs>=17.3.0 in /usr/local/lib/python3.10/dist-packages (from aiohttp<4.0,>=3.0->cohere) (23.1.0)\n",
            "Requirement already satisfied: charset-normalizer<4.0,>=2.0 in /usr/local/lib/python3.10/dist-packages (from aiohttp<4.0,>=3.0->cohere) (2.0.12)\n",
            "Requirement already satisfied: multidict<7.0,>=4.5 in /usr/local/lib/python3.10/dist-packages (from aiohttp<4.0,>=3.0->cohere) (6.0.4)\n",
            "Requirement already satisfied: async-timeout<5.0,>=4.0.0a3 in /usr/local/lib/python3.10/dist-packages (from aiohttp<4.0,>=3.0->cohere) (4.0.2)\n",
            "Requirement already satisfied: yarl<2.0,>=1.0 in /usr/local/lib/python3.10/dist-packages (from aiohttp<4.0,>=3.0->cohere) (1.9.2)\n",
            "Requirement already satisfied: frozenlist>=1.1.1 in /usr/local/lib/python3.10/dist-packages (from aiohttp<4.0,>=3.0->cohere) (1.3.3)\n",
            "Requirement already satisfied: aiosignal>=1.1.2 in /usr/local/lib/python3.10/dist-packages (from aiohttp<4.0,>=3.0->cohere) (1.3.1)\n",
            "Requirement already satisfied: urllib3<1.27,>=1.21.1 in /usr/local/lib/python3.10/dist-packages (from requests<3.0,>=2.0->cohere) (1.26.15)\n",
            "Requirement already satisfied: certifi>=2017.4.17 in /usr/local/lib/python3.10/dist-packages (from requests<3.0,>=2.0->cohere) (2022.12.7)\n",
            "Requirement already satisfied: idna<4,>=2.5 in /usr/local/lib/python3.10/dist-packages (from requests<3.0,>=2.0->cohere) (3.4)\n"
          ]
        }
      ]
    },
    {
      "cell_type": "code",
      "source": [
        "co = cohere.Client('BoeBPNFyLiIh3xTjiS88eCqsgsRTQUang5bFCjQt') # This is your trial API key\n",
        "\n",
        "prompt = final_sentence  # Final Sentence\n",
        "\n",
        "response = co.generate(\n",
        "    model='command-xlarge-nightly',\n",
        "    prompt=prompt,\n",
        "    max_tokens=300,\n",
        "    temperature=0.9,\n",
        "    k=0,\n",
        "    stop_sequences=[],\n",
        "    return_likelihoods='NONE'\n",
        ")\n",
        "\n",
        "print('Prediction: {}'.format(response.generations[0].text))"
      ],
      "metadata": {
        "id": "eYCabuj9t6eV",
        "colab": {
          "base_uri": "https://localhost:8080/"
        },
        "outputId": "b14d85e3-a1e1-4a32-fcf7-220ed4f4c3a7"
      },
      "execution_count": 11,
      "outputs": [
        {
          "output_type": "stream",
          "name": "stderr",
          "text": [
            "Your text contains a trailing whitespace, which has been trimmed to ensure high quality generations.\n"
          ]
        },
        {
          "output_type": "stream",
          "name": "stdout",
          "text": [
            "Prediction: \n",
            "Here is an example of an \"Expectation-Surprise\" framework for an email marketing campaign for a store that sells premium leather shoes:\n",
            "\n",
            "Expectation:\n",
            "- High-quality shoes that are built to last\n",
            "- Premium materials such as full-grain leather\n",
            "- Classic styles that will never go out of fashion\n",
            "\n",
            "Surprise:\n",
            "- Unparalleled customer service that goes above and beyond\n",
            "- Surprisingly affordable prices for such high-quality shoes\n",
            "- A vast selection of styles and colors to choose from\n",
            "\n",
            "Talking points:\n",
            "- \"Our shoes are made with the highest quality materials and construction, so you can be confident that they will last for years to come.\"\n",
            "- \"Even though our prices are surprisingly affordable, we never sacrifice quality. You can be sure that you're getting the best value for your money.\"\n",
            "- \"With our vast selection of styles and colors, you're sure to find the perfect pair of shoes to match your unique style.\"\n",
            "\n",
            "This framework sets clear expectations for the reader about what they can expect from the store, but then surprises them with unexpected benefits or features that exceed those expectations. By focusing on the high quality and affordability of the shoes, as well as the exceptional customer service and vast selection, the store can generate interest and encourage action from potential customers.\n"
          ]
        }
      ]
    }
  ]
}